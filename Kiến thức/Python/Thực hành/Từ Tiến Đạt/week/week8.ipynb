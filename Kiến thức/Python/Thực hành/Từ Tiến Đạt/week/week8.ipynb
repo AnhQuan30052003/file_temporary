{
 "cells": [
  {
   "cell_type": "code",
   "execution_count": 3,
   "metadata": {},
   "outputs": [
    {
     "name": "stdout",
     "output_type": "stream",
     "text": [
      " from \n"
     ]
    }
   ],
   "source": [
    "# list\n",
    "def main():\n",
    " student = get_student()\n",
    " if student[0] == \"Padma\":\n",
    "  student[1] = \"Ravenclaw\"\n",
    " print(f\"{student[0]} from {student[1]}\")\n",
    "def get_student():\n",
    " name = input(\"Name: \")\n",
    " house = input(\"House: \")\n",
    " return [name, house]\n",
    "if __name__ == \"__main__\":\n",
    " main()"
   ]
  },
  {
   "cell_type": "code",
   "execution_count": 4,
   "metadata": {},
   "outputs": [
    {
     "name": "stdout",
     "output_type": "stream",
     "text": [
      "tien dat from loc\n"
     ]
    }
   ],
   "source": [
    "#dict\n",
    "def main():\n",
    " student = get_student()\n",
    " print(f\"{student['name']} from {student['house']}\")\n",
    "def get_student():\n",
    " name = input(\"Name: \")\n",
    " house = input(\"House: \")\n",
    " return {\"name\": name, \"house\": house}\n",
    "if __name__ == \"__main__\":\n",
    " main()"
   ]
  },
  {
   "cell_type": "code",
   "execution_count": 5,
   "metadata": {},
   "outputs": [
    {
     "name": "stdout",
     "output_type": "stream",
     "text": [
      "Padma from Ravenclaw\n"
     ]
    }
   ],
   "source": [
    "def main():\n",
    " student = get_student()\n",
    " if student[\"name\"] == \"Padma\":\n",
    "  student[\"house\"] = \"Ravenclaw\"\n",
    " print(f\"{student['name']} from {student['house']}\")\n",
    "def get_student():\n",
    " name = input(\"Name: \")\n",
    " house = input(\"House: \")\n",
    " return {\"name\": name, \"house\": house}\n",
    "if __name__ == \"__main__\":\n",
    " main()"
   ]
  },
  {
   "cell_type": "code",
   "execution_count": 8,
   "metadata": {},
   "outputs": [
    {
     "name": "stdout",
     "output_type": "stream",
     "text": [
      "hello from dat\n"
     ]
    }
   ],
   "source": [
    "class Student:\n",
    "  def __init__(self, name, house):\n",
    "    self.name = name\n",
    "    self.house = house\n",
    "def get_student():\n",
    "  name = input(\"Name: \")\n",
    "  house = input(\"House: \")\n",
    "  student = Student(name, house)\n",
    "  return student\n",
    "def main():\n",
    " student = get_student()\n",
    " print(f\"{student.name} from {student.house}\")\n",
    "if __name__ == '__main__':\n",
    "  main()"
   ]
  },
  {
   "cell_type": "code",
   "execution_count": 12,
   "metadata": {},
   "outputs": [
    {
     "name": "stdout",
     "output_type": "stream",
     "text": [
      "123 from Hufflepuff\n"
     ]
    }
   ],
   "source": [
    "class Student:\n",
    " def __init__(self, name, house):\n",
    "  if not name:\n",
    "    raise ValueError(\"Missing name\")\n",
    "  if house not in [\"Gryffindor\", \"Hufflepuff\", \"Ravenclaw\", \"Slytherin\"]:\n",
    "    raise ValueError(\"Invalid house\")\n",
    "  self.name = name\n",
    "  self.house = house\n",
    "def main():\n",
    " student = get_student()\n",
    " print(f\"{student.name} from {student.house}\")\n",
    "def get_student():\n",
    " name = input(\"Name: \")\n",
    " house = input(\"House: \")\n",
    " return Student(name, house)\n",
    "if __name__ == \"__main__\":\n",
    " main()"
   ]
  },
  {
   "cell_type": "code",
   "execution_count": null,
   "metadata": {},
   "outputs": [],
   "source": [
    "class Student:\n",
    " def __init__(self, name, house, patronus):\n",
    "  if not name:\n",
    "    raise ValueError(\"Missing name\")\n",
    "  if house not in [\"Gryffindor\", \"Hufflepuff\", \"Ravenclaw\", \"Slytherin\"]:\n",
    "    raise ValueError(\"Invalid house\")\n",
    "  self.name = name\n",
    "  self.house = house\n",
    "  self.patronus = patronus\n",
    "  def __str__(self): # in cac thuoc tinh cua doi tuong\n",
    "    return f\"{self.name} from {self.house}\"\n",
    "def main():\n",
    " student = get_student()\n",
    " print(student) # lay method __str__\n",
    "def get_student():\n",
    " name = input(\"Name: \")\n",
    " house = input(\"House: \")\n",
    " patronus = input(\"Patronus: \")\n",
    " return Student(name, house, patronus)\n",
    "if __name__ == \"__main__\":\n",
    " main()"
   ]
  },
  {
   "cell_type": "code",
   "execution_count": null,
   "metadata": {},
   "outputs": [],
   "source": [
    "class Student:\n",
    "    def __init__(self, name, house, patronus=None):\n",
    "        if not name:\n",
    "            raise ValueError(\"Missing name\")\n",
    "        if house not in [\"Gryffindor\", \"Hufflepuff\", \"Ravenclaw\", \"Slytherin\"]:\n",
    "            raise ValueError(\"Invalid house\")\n",
    "        if patronus and patronus not in [\"Stag\", \"Otter\", \"Jack Russell terrier\"]:\n",
    "            raise ValueError(\"Invalid patronus\")\n",
    "        self.name = name\n",
    "        self.house = house\n",
    "        self.patronus = patronus\n",
    "\n",
    "    def __str__(self):\n",
    "        return f\"{self.name} from {self.house}\"\n",
    "\n",
    "    def charm(self):\n",
    "        match self.patronus:\n",
    "            case \"Stag\":\n",
    "                return \"🐴\"\n",
    "            case \"Otter\":\n",
    "                return \"🦦\"\n",
    "            case \"Jack Russell terrier\":\n",
    "                return \"🐶\"\n",
    "            case _:\n",
    "                return \"🪄\"\n",
    "\n",
    "\n",
    "def main():\n",
    "    student = get_student()\n",
    "    print(\"Expecto Patronum!\")\n",
    "    print(student.charm())\n",
    "\n",
    "\n",
    "def get_student():\n",
    "    name = input(\"Name: \")\n",
    "    house = input(\"House: \")\n",
    "    patronus = input(\"Patronus: \") or None\n",
    "    return Student(name, house, patronus)\n",
    "\n",
    "\n",
    "if __name__ == \"__main__\":\n",
    "    main()"
   ]
  },
  {
   "cell_type": "code",
   "execution_count": null,
   "metadata": {},
   "outputs": [],
   "source": [
    "class Student:\n",
    "    def __init__(self, name, house):\n",
    "        if not name:\n",
    "            raise ValueError(\"Invalid name\")\n",
    "        self.name = name\n",
    "        self.house = house\n",
    "\n",
    "    def __str__(self):\n",
    "        return f\"{self.name} from {self.house}\"\n",
    "\n",
    "    # Getter for house\n",
    "    @property\n",
    "    def house(self):\n",
    "        return self._house\n",
    "\n",
    "    # Setter for house\n",
    "    @house.setter\n",
    "    def house(self, house):\n",
    "        if house not in [\"Gryffindor\", \"Hufflepuff\", \"Ravenclaw\", \"Slytherin\"]:\n",
    "            raise ValueError(\"Invalid house\")\n",
    "        self._house = house\n",
    "\n",
    "\n",
    "def main():\n",
    "    student = get_student()\n",
    "    print(student)\n",
    "\n",
    "\n",
    "def get_student():\n",
    "    name = input(\"Name: \")\n",
    "    house = input(\"House: \")\n",
    "    return Student(name, house)\n",
    "\n",
    "\n",
    "if __name__ == \"__main__\":\n",
    "    main()"
   ]
  },
  {
   "cell_type": "code",
   "execution_count": 13,
   "metadata": {},
   "outputs": [
    {
     "ename": "ValueError",
     "evalue": "Invalid house",
     "output_type": "error",
     "traceback": [
      "\u001b[1;31m---------------------------------------------------------------------------\u001b[0m",
      "\u001b[1;31mValueError\u001b[0m                                Traceback (most recent call last)",
      "\u001b[1;32me:\\UNIVERSITY\\Third-yrs\\period1\\python\\thuchanh\\week\\week8.ipynb Cell 9\u001b[0m line \u001b[0;36m4\n\u001b[0;32m     <a href='vscode-notebook-cell:/e%3A/UNIVERSITY/Third-yrs/period1/python/thuchanh/week/week8.ipynb#X11sZmlsZQ%3D%3D?line=40'>41</a>\u001b[0m     \u001b[39mreturn\u001b[39;00m Student(name, house)\n\u001b[0;32m     <a href='vscode-notebook-cell:/e%3A/UNIVERSITY/Third-yrs/period1/python/thuchanh/week/week8.ipynb#X11sZmlsZQ%3D%3D?line=43'>44</a>\u001b[0m \u001b[39mif\u001b[39;00m \u001b[39m__name__\u001b[39m \u001b[39m==\u001b[39m \u001b[39m\"\u001b[39m\u001b[39m__main__\u001b[39m\u001b[39m\"\u001b[39m:\n\u001b[1;32m---> <a href='vscode-notebook-cell:/e%3A/UNIVERSITY/Third-yrs/period1/python/thuchanh/week/week8.ipynb#X11sZmlsZQ%3D%3D?line=44'>45</a>\u001b[0m     main()\n",
      "\u001b[1;32me:\\UNIVERSITY\\Third-yrs\\period1\\python\\thuchanh\\week\\week8.ipynb Cell 9\u001b[0m line \u001b[0;36m3\n\u001b[0;32m     <a href='vscode-notebook-cell:/e%3A/UNIVERSITY/Third-yrs/period1/python/thuchanh/week/week8.ipynb#X11sZmlsZQ%3D%3D?line=31'>32</a>\u001b[0m \u001b[39mdef\u001b[39;00m \u001b[39mmain\u001b[39m():\n\u001b[0;32m     <a href='vscode-notebook-cell:/e%3A/UNIVERSITY/Third-yrs/period1/python/thuchanh/week/week8.ipynb#X11sZmlsZQ%3D%3D?line=32'>33</a>\u001b[0m     student \u001b[39m=\u001b[39m get_student()\n\u001b[1;32m---> <a href='vscode-notebook-cell:/e%3A/UNIVERSITY/Third-yrs/period1/python/thuchanh/week/week8.ipynb#X11sZmlsZQ%3D%3D?line=33'>34</a>\u001b[0m     student\u001b[39m.\u001b[39;49mhouse \u001b[39m=\u001b[39m \u001b[39m\"\u001b[39m\u001b[39mNumber Four, Privet Drive\u001b[39m\u001b[39m\"\u001b[39m\n\u001b[0;32m     <a href='vscode-notebook-cell:/e%3A/UNIVERSITY/Third-yrs/period1/python/thuchanh/week/week8.ipynb#X11sZmlsZQ%3D%3D?line=34'>35</a>\u001b[0m     \u001b[39mprint\u001b[39m(student)\n",
      "\u001b[1;32me:\\UNIVERSITY\\Third-yrs\\period1\\python\\thuchanh\\week\\week8.ipynb Cell 9\u001b[0m line \u001b[0;36m2\n\u001b[0;32m     <a href='vscode-notebook-cell:/e%3A/UNIVERSITY/Third-yrs/period1/python/thuchanh/week/week8.ipynb#X11sZmlsZQ%3D%3D?line=24'>25</a>\u001b[0m \u001b[39m@house\u001b[39m\u001b[39m.\u001b[39msetter\n\u001b[0;32m     <a href='vscode-notebook-cell:/e%3A/UNIVERSITY/Third-yrs/period1/python/thuchanh/week/week8.ipynb#X11sZmlsZQ%3D%3D?line=25'>26</a>\u001b[0m \u001b[39mdef\u001b[39;00m \u001b[39mhouse\u001b[39m(\u001b[39mself\u001b[39m, house):\n\u001b[0;32m     <a href='vscode-notebook-cell:/e%3A/UNIVERSITY/Third-yrs/period1/python/thuchanh/week/week8.ipynb#X11sZmlsZQ%3D%3D?line=26'>27</a>\u001b[0m     \u001b[39mif\u001b[39;00m house \u001b[39mnot\u001b[39;00m \u001b[39min\u001b[39;00m [\u001b[39m\"\u001b[39m\u001b[39mGryffindor\u001b[39m\u001b[39m\"\u001b[39m, \u001b[39m\"\u001b[39m\u001b[39mHufflepuff\u001b[39m\u001b[39m\"\u001b[39m, \u001b[39m\"\u001b[39m\u001b[39mRavenclaw\u001b[39m\u001b[39m\"\u001b[39m, \u001b[39m\"\u001b[39m\u001b[39mSlytherin\u001b[39m\u001b[39m\"\u001b[39m]:\n\u001b[1;32m---> <a href='vscode-notebook-cell:/e%3A/UNIVERSITY/Third-yrs/period1/python/thuchanh/week/week8.ipynb#X11sZmlsZQ%3D%3D?line=27'>28</a>\u001b[0m         \u001b[39mraise\u001b[39;00m \u001b[39mValueError\u001b[39;00m(\u001b[39m\"\u001b[39m\u001b[39mInvalid house\u001b[39m\u001b[39m\"\u001b[39m)\n\u001b[0;32m     <a href='vscode-notebook-cell:/e%3A/UNIVERSITY/Third-yrs/period1/python/thuchanh/week/week8.ipynb#X11sZmlsZQ%3D%3D?line=28'>29</a>\u001b[0m     \u001b[39mself\u001b[39m\u001b[39m.\u001b[39m_house \u001b[39m=\u001b[39m house\n",
      "\u001b[1;31mValueError\u001b[0m: Invalid house"
     ]
    }
   ],
   "source": [
    "class Student:\n",
    "    def __init__(self, name, house):\n",
    "        self.name = name\n",
    "        self.house = house\n",
    "\n",
    "    def __str__(self):\n",
    "        return f\"{self.name} from {self.house}\"\n",
    "\n",
    "    # Getter for name\n",
    "    @property\n",
    "    def name(self):\n",
    "        return self._name\n",
    "\n",
    "    # Setter for name\n",
    "    @name.setter\n",
    "    def name(self, name):\n",
    "        if not name:\n",
    "            raise ValueError(\"Invalid name\")\n",
    "        self._name = name\n",
    "\n",
    "    @property\n",
    "    def house(self):\n",
    "        return self._house\n",
    "\n",
    "    @house.setter\n",
    "    def house(self, house):\n",
    "        if house not in [\"Gryffindor\", \"Hufflepuff\", \"Ravenclaw\", \"Slytherin\"]:\n",
    "            raise ValueError(\"Invalid house\")\n",
    "        self._house = house\n",
    "\n",
    "\n",
    "def main():\n",
    "    student = get_student()\n",
    "    student.house = \"Number Four, Privet Drive\" # khong truy cap dc vi da la property\n",
    "    print(student)\n",
    "\n",
    "\n",
    "def get_student():\n",
    "    name = input(\"Name: \")\n",
    "    house = input(\"House: \")\n",
    "    return Student(name, house)\n",
    "\n",
    "\n",
    "if __name__ == \"__main__\":\n",
    "    main()"
   ]
  },
  {
   "cell_type": "code",
   "execution_count": null,
   "metadata": {},
   "outputs": [],
   "source": []
  }
 ],
 "metadata": {
  "kernelspec": {
   "display_name": "py310cntt",
   "language": "python",
   "name": "python3"
  },
  "language_info": {
   "codemirror_mode": {
    "name": "ipython",
    "version": 3
   },
   "file_extension": ".py",
   "mimetype": "text/x-python",
   "name": "python",
   "nbconvert_exporter": "python",
   "pygments_lexer": "ipython3",
   "version": "3.10.13"
  }
 },
 "nbformat": 4,
 "nbformat_minor": 2
}
