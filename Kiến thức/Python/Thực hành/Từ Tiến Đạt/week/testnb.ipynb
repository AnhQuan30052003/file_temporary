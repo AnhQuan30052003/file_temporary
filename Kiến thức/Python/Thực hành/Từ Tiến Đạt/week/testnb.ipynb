{
 "cells": [
  {
   "cell_type": "code",
   "execution_count": null,
   "id": "ff57e9a7",
   "metadata": {},
   "outputs": [],
   "source": [
    "print('hello world')"
   ]
  },
  {
   "cell_type": "markdown",
   "id": "22072bb8",
   "metadata": {},
   "source": [
    "Đoạn chương trình trên in ra chữ 'Hello world' bằng hàm `print()`"
   ]
  },
  {
   "cell_type": "code",
   "execution_count": 10,
   "id": "2f70429a",
   "metadata": {},
   "outputs": [
    {
     "name": "stdout",
     "output_type": "stream",
     "text": [
      "x is less than y\n"
     ]
    }
   ],
   "source": [
    "x = int(input(\"What's x: \"))\n",
    "y = int(input(\"What's y: \"))\n",
    "if x < y:\n",
    "  print(\"x is less than y\")"
   ]
  },
  {
   "cell_type": "code",
   "execution_count": 12,
   "id": "dca56ca0",
   "metadata": {},
   "outputs": [
    {
     "name": "stdout",
     "output_type": "stream",
     "text": [
      "x is equal to y\n"
     ]
    }
   ],
   "source": [
    "x = int(input(\"What's x? \"))\n",
    "y = int(input(\"What's y? \"))\n",
    "if x < y:\n",
    " print(\"x is less than y\")\n",
    "if x > y:\n",
    " print(\"x is greater than y\")\n",
    "if x == y:\n",
    " print(\"x is equal to y\")\n"
   ]
  },
  {
   "cell_type": "code",
   "execution_count": 38,
   "id": "e5244e55",
   "metadata": {},
   "outputs": [
    {
     "name": "stdout",
     "output_type": "stream",
     "text": [
      "x is equal to y\n"
     ]
    }
   ],
   "source": [
    "x = int(input(\"What's x? \"))\n",
    "y = int(input(\"What's y? \"))\n",
    "if x != y:\n",
    " print(\"x is not equal to y\")\n",
    "else:\n",
    " print(\"x is equal to y\")\n"
   ]
  },
  {
   "cell_type": "code",
   "execution_count": 19,
   "id": "9ef8359d",
   "metadata": {},
   "outputs": [
    {
     "name": "stdout",
     "output_type": "stream",
     "text": [
      "Grade: A\n"
     ]
    }
   ],
   "source": [
    "score = int(input(\"Nhap diem: \"))\n",
    "while not (score>=0 and score <=100):\n",
    "  score = int(input(\"Moi ban nhap lai\"))\n",
    "if score >= 90 and score <= 100:\n",
    " print(\"Grade: A\")\n",
    "elif score >=80 and score < 90:\n",
    " print(\"Grade: B\")\n",
    "elif score >=70 and score < 80:\n",
    " print(\"Grade: C\")\n",
    "elif score >=60 and score < 70:\n",
    " print(\"Grade: D\")\n",
    "else:\n",
    " print(\"Grade: F\")\n",
    "\n"
   ]
  },
  {
   "cell_type": "code",
   "execution_count": 15,
   "id": "43f41eb5",
   "metadata": {},
   "outputs": [
    {
     "name": "stdout",
     "output_type": "stream",
     "text": [
      "Sorry, I didn't understand that.\n",
      "Sorry, I didn't understand that.\n",
      "Sorry, I didn't understand that.\n",
      "You are able to vote in the United States!\n"
     ]
    }
   ],
   "source": [
    "while True:\n",
    "    try:\n",
    "        # Note: Python 2.x users should use raw_input, the equivalent of 3.x's input\n",
    "        age = int(input(\"Please enter your age: \"))\n",
    "    except ValueError:\n",
    "        print(\"Sorry, I didn't understand that.\")\n",
    "        #better try again... Return to the start of the loop\n",
    "        continue\n",
    "    else:\n",
    "        #age was successfully parsed!\n",
    "        #we're ready to exit the loop.\n",
    "        break\n",
    "if age >= 18: \n",
    "    print(\"You are able to vote in the United States!\")\n",
    "else:\n",
    "    print(\"You are not able to vote in the United States.\")"
   ]
  },
  {
   "cell_type": "code",
   "execution_count": null,
   "id": "866f07e8",
   "metadata": {},
   "outputs": [],
   "source": [
    "# Get the user's input\n",
    "x = float(input(\"What's x? \"))\n",
    "y = float(input(\"What's y? \"))\n",
    "# Calculate the result and round\n",
    "z = round(x / y, 2)\n",
    "# Print the result\n",
    "print(z)\n"
   ]
  },
  {
   "cell_type": "code",
   "execution_count": null,
   "id": "12a69a70",
   "metadata": {},
   "outputs": [],
   "source": [
    "# Get the user's input\n",
    "x = float(input(\"What's x? \"))\n",
    "y = float(input(\"What's y? \"))\n",
    "# Calculate the result\n",
    "z = x / y\n",
    "# Print the result\n",
    "print(f\"{z:.2f}\")\n"
   ]
  },
  {
   "cell_type": "code",
   "execution_count": null,
   "id": "5358c7ca",
   "metadata": {},
   "outputs": [],
   "source": [
    "# Create our own function\n",
    "def hello(to):\n",
    " print(\"hello,\", to)\n",
    "# Output using our own function\n",
    "name = input(\"What's your name? \")\n",
    "hello(name)\n"
   ]
  },
  {
   "cell_type": "code",
   "execution_count": null,
   "id": "62a30f09",
   "metadata": {},
   "outputs": [],
   "source": [
    "# Create our own function\n",
    "def hello(to=\"world\"):\n",
    " print(\"hello,\", to)\n",
    "# Output using our own function\n",
    "name = input(\"What's your name? \")\n",
    "hello(name)\n",
    "# Output without passing the expected arguments\n",
    "hello()"
   ]
  },
  {
   "cell_type": "code",
   "execution_count": null,
   "id": "ae483702",
   "metadata": {},
   "outputs": [],
   "source": [
    "def main():\n",
    " x = int(input(\"What's x? \"))\n",
    " print(x,\"squared is\", square(x))\n",
    "def square(n):\n",
    " return n * n\n",
    "main()\n"
   ]
  },
  {
   "cell_type": "code",
   "execution_count": null,
   "id": "db448c0d",
   "metadata": {},
   "outputs": [],
   "source": [
    "def sum(a , b):\n",
    "  return a + b\n",
    "def main():\n",
    "  a, b = map(int, input('Nhap 2 so a va b: ').split())\n",
    "  print(sum(a, b))\n",
    "main()"
   ]
  },
  {
   "cell_type": "code",
   "execution_count": null,
   "id": "d0e00161",
   "metadata": {},
   "outputs": [],
   "source": [
    "i = 0\n",
    "while i < 6:\n",
    "  i += 1\n",
    "  if i == 3:\n",
    "    continue\n",
    "  print(i)"
   ]
  },
  {
   "cell_type": "code",
   "execution_count": null,
   "id": "e7d8d15a",
   "metadata": {},
   "outputs": [],
   "source": [
    "i = 1\n",
    "while i < 6:\n",
    "  print(i)\n",
    "  i += 1\n",
    "else:\n",
    "  print(\"i is no longer less than 6\")"
   ]
  },
  {
   "cell_type": "code",
   "execution_count": null,
   "id": "ab81d141",
   "metadata": {},
   "outputs": [],
   "source": [
    "fruits = [\"apple\", \"banana\", \"cherry\", \"lemon\", \"waterlemon\", \"pineapple\"]\n",
    "for x in fruits:\n",
    "  print(x)"
   ]
  },
  {
   "cell_type": "code",
   "execution_count": null,
   "id": "2a492549",
   "metadata": {},
   "outputs": [],
   "source": [
    "for x in \"banana\":\n",
    "  print(x)"
   ]
  },
  {
   "cell_type": "code",
   "execution_count": null,
   "id": "786e14cf",
   "metadata": {},
   "outputs": [],
   "source": [
    "fruits = [\"apple\", \"banana\", \"cherry\"]\n",
    "for x in fruits:\n",
    "  print(x)\n",
    "  if x == \"banana\":\n",
    "    break"
   ]
  },
  {
   "cell_type": "code",
   "execution_count": null,
   "id": "2068df4b",
   "metadata": {},
   "outputs": [],
   "source": [
    "for x in range(6):\n",
    "  print(x)"
   ]
  },
  {
   "cell_type": "code",
   "execution_count": null,
   "id": "6c246c0c",
   "metadata": {},
   "outputs": [],
   "source": [
    "for x in range(2, 6):\n",
    "  print(x)"
   ]
  },
  {
   "cell_type": "code",
   "execution_count": null,
   "id": "c22d18dd",
   "metadata": {},
   "outputs": [],
   "source": [
    "for x in range(2, 30, 3):\n",
    "  print(x)"
   ]
  },
  {
   "cell_type": "markdown",
   "id": "fdb76c5d",
   "metadata": {},
   "source": [
    "In ra số nguyên trong khoảng từ 2 - 30 (mỗi lần tăng 3 bậc)"
   ]
  },
  {
   "cell_type": "code",
   "execution_count": 1,
   "id": "1d466f45",
   "metadata": {},
   "outputs": [
    {
     "name": "stdout",
     "output_type": "stream",
     "text": [
      "red apple\n",
      "red banana\n",
      "red cherry\n",
      "big apple\n",
      "big banana\n",
      "big cherry\n",
      "tasty apple\n",
      "tasty banana\n",
      "tasty cherry\n"
     ]
    }
   ],
   "source": [
    "adj = [\"red\", \"big\", \"tasty\"]\n",
    "fruits = [\"apple\", \"banana\", \"cherry\"]\n",
    "\n",
    "for x in adj:\n",
    "  for y in fruits:\n",
    "    print(x, y)"
   ]
  },
  {
   "cell_type": "code",
   "execution_count": null,
   "id": "f3df6f82",
   "metadata": {},
   "outputs": [],
   "source": [
    "for x in [0, 1, 2]:\n",
    "  pass"
   ]
  },
  {
   "cell_type": "markdown",
   "id": "89ca8061",
   "metadata": {},
   "source": [
    "Để trống vòng for"
   ]
  },
  {
   "cell_type": "code",
   "execution_count": 3,
   "id": "17968c40",
   "metadata": {},
   "outputs": [
    {
     "name": "stdout",
     "output_type": "stream",
     "text": [
      "30\n"
     ]
    }
   ],
   "source": [
    "\n",
    "def sum(a, b, c):\n",
    "  return a+b+c\n",
    "def nhapso():\n",
    "  x, y , z = map(int, input('Nhap 3 so nguyen de tinh tong').split())\n",
    "  print(sum(x, y , z))\n",
    "nhapso()"
   ]
  },
  {
   "cell_type": "code",
   "execution_count": null,
   "id": "955c0f2a",
   "metadata": {},
   "outputs": [],
   "source": [
    "def my_function(*kids):\n",
    "  print(\"The youngest child is \" + kids[2])\n",
    "\n",
    "my_function(\"Emil\", \"Tobias\", \"Linus\")"
   ]
  },
  {
   "cell_type": "code",
   "execution_count": 2,
   "id": "b6625792",
   "metadata": {},
   "outputs": [
    {
     "name": "stdout",
     "output_type": "stream",
     "text": [
      "40\n"
     ]
    }
   ],
   "source": [
    "a, b, c, d =  map(int, input('Nhap 4 so nguyen: ').split())\n",
    "print(a+b+c+d)"
   ]
  },
  {
   "cell_type": "code",
   "execution_count": 40,
   "id": "6e96b969",
   "metadata": {},
   "outputs": [
    {
     "name": "stdout",
     "output_type": "stream",
     "text": [
      "15\n"
     ]
    }
   ],
   "source": [
    "x = lambda a : a + 10\n",
    "print(x(5))"
   ]
  },
  {
   "cell_type": "code",
   "execution_count": 41,
   "id": "68f2fa60",
   "metadata": {},
   "outputs": [
    {
     "name": "stdout",
     "output_type": "stream",
     "text": [
      "200\n"
     ]
    }
   ],
   "source": [
    "x = lambda a, b : a * b\n",
    "print(x(10, 20))"
   ]
  },
  {
   "cell_type": "code",
   "execution_count": 42,
   "id": "8abeccc7",
   "metadata": {},
   "outputs": [
    {
     "name": "stdout",
     "output_type": "stream",
     "text": [
      "22\n"
     ]
    }
   ],
   "source": [
    "def myfunc(n):\n",
    "  return lambda a : a * n\n",
    "\n",
    "mydoubler = myfunc(2)\n",
    "\n",
    "print(mydoubler(11))"
   ]
  },
  {
   "cell_type": "code",
   "execution_count": 2,
   "id": "fefebd19",
   "metadata": {},
   "outputs": [
    {
     "name": "stdout",
     "output_type": "stream",
     "text": [
      "22\n",
      "44\n"
     ]
    }
   ],
   "source": [
    "def myfunc(n):\n",
    "  return lambda a : a * n\n",
    "\n",
    "mydoubler = myfunc(2)\n",
    "mytripler = myfunc(4)\n",
    "\n",
    "print(mydoubler(11))\n",
    "print(mytripler(11))"
   ]
  },
  {
   "cell_type": "code",
   "execution_count": 8,
   "id": "43d4e6c9",
   "metadata": {},
   "outputs": [
    {
     "name": "stdout",
     "output_type": "stream",
     "text": [
      "\n",
      "   *********     *********\n",
      " ************* *************\n",
      "*****************************\n",
      "*****************************\n",
      "*****************************\n",
      " ***************************\n",
      "   ***********************\n",
      "     *******************\n",
      "       ***************\n",
      "         ***********\n",
      "           *******\n",
      "             ***\n",
      "Xin Chào\n",
      "Tôi muốn nói với bạn rằng:\n",
      "a\n",
      "Yêu bạn nhiều lắm!\n"
     ]
    }
   ],
   "source": [
    "# Nhập tên bạn gái\n",
    "girlfriend_name = input(\"Nhập tên bạn gái của bạn: \")\n",
    "# Nhập lời tỏ tình\n",
    "confession = input(\"Nhập lời tỏ tình của bạn: \")\n",
    "print()\n",
    "def Print(d1, d2, d3, d4):\n",
    "  print(' ' * d1 + '*' * d2 + ' ' * d3 + '*' * d4)\n",
    "for i in range(0, 2):\n",
    "  Print(3 - i * 2, 9 + 4 * i, 5 - i * 4, 9 + 4 * i)\n",
    "for i in range(0, 3):\n",
    "  Print(0, 9 + 2 * 3, 0, 9 + 5)\n",
    "for i in range(-1, 6):\n",
    "  Print(i + 1 + (2 + i), 29 - (i + 1 + (2 + i)) * 2, 0, 0)\n",
    "# Hiển thị lời tỏ tình và hình trái tim\n",
    "print(\"Xin Chào\")\n",
    "print(\"Tôi muốn nói với bạn rằng:\")\n",
    "print(confession)\n",
    "print(\"Yêu bạn nhiều lắm!\")"
   ]
  },
  {
   "cell_type": "code",
   "execution_count": 2,
   "id": "28d4722c",
   "metadata": {},
   "outputs": [
    {
     "name": "stdout",
     "output_type": "stream",
     "text": [
      "0\n",
      "1\n"
     ]
    }
   ],
   "source": [
    "for i in range(0,2):\n",
    "  print(i)"
   ]
  },
  {
   "cell_type": "code",
   "execution_count": null,
   "id": "715c3fbb",
   "metadata": {},
   "outputs": [],
   "source": []
  }
 ],
 "metadata": {
  "kernelspec": {
   "display_name": "py310cntt",
   "language": "python",
   "name": "python3"
  },
  "language_info": {
   "codemirror_mode": {
    "name": "ipython",
    "version": 3
   },
   "file_extension": ".py",
   "mimetype": "text/x-python",
   "name": "python",
   "nbconvert_exporter": "python",
   "pygments_lexer": "ipython3",
   "version": "3.10.13"
  }
 },
 "nbformat": 4,
 "nbformat_minor": 5
}
