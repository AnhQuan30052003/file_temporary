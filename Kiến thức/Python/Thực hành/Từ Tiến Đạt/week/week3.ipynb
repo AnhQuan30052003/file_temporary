{
 "cells": [
  {
   "cell_type": "code",
   "execution_count": 2,
   "metadata": {},
   "outputs": [
    {
     "name": "stdout",
     "output_type": "stream",
     "text": [
      "Gia tri cua n la: 10\n"
     ]
    }
   ],
   "source": [
    "while True:\n",
    " n = int(input(\"What's n? \"))\n",
    " if n < 0:\n",
    "  n = int(input(\"nhap lai n\"))\n",
    " else:\n",
    "  break\n",
    "print(\"Gia tri cua n la:\",n)"
   ]
  },
  {
   "cell_type": "code",
   "execution_count": 4,
   "metadata": {},
   "outputs": [
    {
     "name": "stdout",
     "output_type": "stream",
     "text": [
      "tien dat\n"
     ]
    }
   ],
   "source": [
    "# Ask the user for their name\n",
    "name = input(\"What's your name? \")\n",
    "# Remove whitespace from the str\n",
    "name = name.strip()\n",
    "print(f\"{name}\", sep=\".\")\n"
   ]
  },
  {
   "cell_type": "code",
   "execution_count": 7,
   "metadata": {},
   "outputs": [
    {
     "name": "stdout",
     "output_type": "stream",
     "text": [
      "meow\n",
      "meow\n"
     ]
    }
   ],
   "source": [
    "def main():\n",
    "  number = getNumber()\n",
    "  meow(number)\n",
    "def getNumber():\n",
    "  while True:\n",
    "    n = int(input(\"Nhap n (n > 0):\"))\n",
    "    if n > 0:\n",
    "      break\n",
    "  return n\n",
    "def meow(n):\n",
    "  for _ in range (n):\n",
    "    print(\"meow\")\n",
    "main()"
   ]
  },
  {
   "cell_type": "code",
   "execution_count": 8,
   "metadata": {},
   "outputs": [
    {
     "name": "stdout",
     "output_type": "stream",
     "text": [
      "1 Hermoine\n",
      "2 Harry\n",
      "3 Ron\n"
     ]
    }
   ],
   "source": [
    "students = [\"Hermoine\", \"Harry\", \"Ron\"]\n",
    "for i in range(len(students)):\n",
    " print(i + 1, students[i])"
   ]
  },
  {
   "cell_type": "code",
   "execution_count": 11,
   "metadata": {},
   "outputs": [
    {
     "name": "stdout",
     "output_type": "stream",
     "text": [
      "0\n",
      "1\n",
      "2\n",
      "4\n"
     ]
    }
   ],
   "source": [
    "for i in range(5):\n",
    "  if i==3:\n",
    "    continue\n",
    "  print(i)"
   ]
  },
  {
   "cell_type": "code",
   "execution_count": 12,
   "metadata": {},
   "outputs": [
    {
     "name": "stdout",
     "output_type": "stream",
     "text": [
      "Gryffindor\n",
      "Gryffindor\n",
      "Gryffindor\n",
      "Slytherin\n"
     ]
    }
   ],
   "source": [
    "students = {\n",
    " \"Hermoine\": \"Gryffindor\",\n",
    " \"Harry\": \"Gryffindor\",\n",
    " \"Ron\": \"Gryffindor\",\n",
    " \"Draco\": \"Slytherin\",\n",
    "}\n",
    "print(students[\"Hermoine\"])\n",
    "print(students[\"Harry\"])\n",
    "print(students[\"Ron\"])\n",
    "print(students[\"Draco\"])"
   ]
  },
  {
   "cell_type": "code",
   "execution_count": 7,
   "metadata": {},
   "outputs": [
    {
     "name": "stdout",
     "output_type": "stream",
     "text": [
      "Hermoine: Gryffindor\n",
      "Harry: Gryffindor\n",
      "Ron: Gryffindor\n",
      "Draco: Slytherin\n"
     ]
    }
   ],
   "source": [
    "students = {\n",
    " \"Hermoine\": \"Gryffindor\",\n",
    " \"Harry\": \"Gryffindor\",\n",
    " \"Ron\": \"Gryffindor\",\n",
    " \"Draco\": \"Slytherin\",\n",
    "}\n",
    "for i in students:\n",
    " print(i, students[i], sep=\": \")"
   ]
  },
  {
   "cell_type": "code",
   "execution_count": 5,
   "metadata": {},
   "outputs": [
    {
     "name": "stdout",
     "output_type": "stream",
     "text": [
      "Hermoine, Gryffindor\n",
      "Harry, Gryffindor\n",
      "Ron, Gryffindor\n",
      "Draco, Slytherin\n"
     ]
    }
   ],
   "source": [
    "students = {\n",
    " \"Hermoine\": \"Gryffindor\",\n",
    " \"Harry\": \"Gryffindor\",\n",
    " \"Ron\": \"Gryffindor\",\n",
    " \"Draco\": \"Slytherin\",\n",
    "}\n",
    "for student in students.keys():\n",
    " print(student, students[student], sep=\", \")"
   ]
  },
  {
   "cell_type": "code",
   "execution_count": 39,
   "metadata": {},
   "outputs": [
    {
     "name": "stdout",
     "output_type": "stream",
     "text": [
      "*\n",
      "**\n",
      "***\n",
      "****\n",
      "*****\n"
     ]
    }
   ],
   "source": [
    "for x in range(1, 6):\n",
    "  for z in range(x):\n",
    "    print(\"*\", end=\"\")\n",
    "  print()"
   ]
  },
  {
   "cell_type": "code",
   "execution_count": 40,
   "metadata": {},
   "outputs": [
    {
     "name": "stdout",
     "output_type": "stream",
     "text": [
      "*****\n",
      "*****\n",
      "*****\n",
      "*****\n",
      "*****\n"
     ]
    }
   ],
   "source": [
    "for x in range(5):\n",
    "  for z in range(5):\n",
    "    print(\"*\", end=\"\")\n",
    "  print()"
   ]
  },
  {
   "cell_type": "code",
   "execution_count": 37,
   "metadata": {},
   "outputs": [],
   "source": [
    "for x in range(6, 1):\n",
    "  for y in range(x):\n",
    "    print(\"*\")\n",
    "  print()\n"
   ]
  },
  {
   "cell_type": "code",
   "execution_count": 2,
   "metadata": {},
   "outputs": [
    {
     "ename": "AttributeError",
     "evalue": "'list' object has no attribute 'items'",
     "output_type": "error",
     "traceback": [
      "\u001b[1;31m---------------------------------------------------------------------------\u001b[0m",
      "\u001b[1;31mAttributeError\u001b[0m                            Traceback (most recent call last)",
      "\u001b[1;32me:\\UNIVERSITY\\Third-yrs\\period1\\python\\thuchanh\\week\\week3.ipynb Cell 12\u001b[0m line \u001b[0;36m7\n\u001b[0;32m      <a href='vscode-notebook-cell:/e%3A/UNIVERSITY/Third-yrs/period1/python/thuchanh/week/week3.ipynb#X14sZmlsZQ%3D%3D?line=0'>1</a>\u001b[0m students \u001b[39m=\u001b[39m [\n\u001b[0;32m      <a href='vscode-notebook-cell:/e%3A/UNIVERSITY/Third-yrs/period1/python/thuchanh/week/week3.ipynb#X14sZmlsZQ%3D%3D?line=1'>2</a>\u001b[0m  {\u001b[39m\"\u001b[39m\u001b[39mname\u001b[39m\u001b[39m\"\u001b[39m: \u001b[39m\"\u001b[39m\u001b[39mHermoine\u001b[39m\u001b[39m\"\u001b[39m, \u001b[39m\"\u001b[39m\u001b[39mhouse\u001b[39m\u001b[39m\"\u001b[39m: \u001b[39m\"\u001b[39m\u001b[39mGryffindor\u001b[39m\u001b[39m\"\u001b[39m, \u001b[39m\"\u001b[39m\u001b[39mpatronus\u001b[39m\u001b[39m\"\u001b[39m: \u001b[39m\"\u001b[39m\u001b[39mOtter\u001b[39m\u001b[39m\"\u001b[39m},\n\u001b[0;32m      <a href='vscode-notebook-cell:/e%3A/UNIVERSITY/Third-yrs/period1/python/thuchanh/week/week3.ipynb#X14sZmlsZQ%3D%3D?line=2'>3</a>\u001b[0m  {\u001b[39m\"\u001b[39m\u001b[39mname\u001b[39m\u001b[39m\"\u001b[39m: \u001b[39m\"\u001b[39m\u001b[39mHarry\u001b[39m\u001b[39m\"\u001b[39m, \u001b[39m\"\u001b[39m\u001b[39mhouse\u001b[39m\u001b[39m\"\u001b[39m: \u001b[39m\"\u001b[39m\u001b[39mGryffindor\u001b[39m\u001b[39m\"\u001b[39m, \u001b[39m\"\u001b[39m\u001b[39mpatronus\u001b[39m\u001b[39m\"\u001b[39m: \u001b[39m\"\u001b[39m\u001b[39mStag\u001b[39m\u001b[39m\"\u001b[39m},\n\u001b[0;32m      <a href='vscode-notebook-cell:/e%3A/UNIVERSITY/Third-yrs/period1/python/thuchanh/week/week3.ipynb#X14sZmlsZQ%3D%3D?line=3'>4</a>\u001b[0m  {\u001b[39m\"\u001b[39m\u001b[39mname\u001b[39m\u001b[39m\"\u001b[39m: \u001b[39m\"\u001b[39m\u001b[39mRon\u001b[39m\u001b[39m\"\u001b[39m, \u001b[39m\"\u001b[39m\u001b[39mhouse\u001b[39m\u001b[39m\"\u001b[39m: \u001b[39m\"\u001b[39m\u001b[39mGryffindor\u001b[39m\u001b[39m\"\u001b[39m, \u001b[39m\"\u001b[39m\u001b[39mpatronus\u001b[39m\u001b[39m\"\u001b[39m: \u001b[39m\"\u001b[39m\u001b[39mJack Russell terrier\u001b[39m\u001b[39m\"\u001b[39m},\n\u001b[0;32m      <a href='vscode-notebook-cell:/e%3A/UNIVERSITY/Third-yrs/period1/python/thuchanh/week/week3.ipynb#X14sZmlsZQ%3D%3D?line=4'>5</a>\u001b[0m  {\u001b[39m\"\u001b[39m\u001b[39mname\u001b[39m\u001b[39m\"\u001b[39m: \u001b[39m\"\u001b[39m\u001b[39mDraco\u001b[39m\u001b[39m\"\u001b[39m, \u001b[39m\"\u001b[39m\u001b[39mhouse\u001b[39m\u001b[39m\"\u001b[39m: \u001b[39m\"\u001b[39m\u001b[39mSlytherin\u001b[39m\u001b[39m\"\u001b[39m, \u001b[39m\"\u001b[39m\u001b[39mpatronus\u001b[39m\u001b[39m\"\u001b[39m: \u001b[39mNone\u001b[39;00m},\n\u001b[0;32m      <a href='vscode-notebook-cell:/e%3A/UNIVERSITY/Third-yrs/period1/python/thuchanh/week/week3.ipynb#X14sZmlsZQ%3D%3D?line=5'>6</a>\u001b[0m ]\n\u001b[1;32m----> <a href='vscode-notebook-cell:/e%3A/UNIVERSITY/Third-yrs/period1/python/thuchanh/week/week3.ipynb#X14sZmlsZQ%3D%3D?line=6'>7</a>\u001b[0m \u001b[39mfor\u001b[39;00m student, v \u001b[39min\u001b[39;00m students\u001b[39m.\u001b[39;49mitems():\n\u001b[0;32m      <a href='vscode-notebook-cell:/e%3A/UNIVERSITY/Third-yrs/period1/python/thuchanh/week/week3.ipynb#X14sZmlsZQ%3D%3D?line=7'>8</a>\u001b[0m \u001b[39m#  print(student[\"name\"], student[\"house\"], student[\"patronus\"], sep=\", \")\u001b[39;00m\n\u001b[0;32m      <a href='vscode-notebook-cell:/e%3A/UNIVERSITY/Third-yrs/period1/python/thuchanh/week/week3.ipynb#X14sZmlsZQ%3D%3D?line=8'>9</a>\u001b[0m   \u001b[39mprint\u001b[39m(\u001b[39m123\u001b[39m)\n",
      "\u001b[1;31mAttributeError\u001b[0m: 'list' object has no attribute 'items'"
     ]
    }
   ],
   "source": [
    "students = [\n",
    " {\"name\": \"Hermoine\", \"house\": \"Gryffindor\", \"patronus\": \"Otter\"},\n",
    " {\"name\": \"Harry\", \"house\": \"Gryffindor\", \"patronus\": \"Stag\"},\n",
    " {\"name\": \"Ron\", \"house\": \"Gryffindor\", \"patronus\": \"Jack Russell terrier\"},\n",
    " {\"name\": \"Draco\", \"house\": \"Slytherin\", \"patronus\": None},\n",
    "]\n",
    "for student in students:\n",
    " print(student[\"name\"], student[\"house\"], student[\"patronus\"], sep=\", \")"
   ]
  },
  {
   "cell_type": "code",
   "execution_count": null,
   "metadata": {},
   "outputs": [],
   "source": []
  }
 ],
 "metadata": {
  "kernelspec": {
   "display_name": "py310cntt",
   "language": "python",
   "name": "python3"
  },
  "language_info": {
   "codemirror_mode": {
    "name": "ipython",
    "version": 3
   },
   "file_extension": ".py",
   "mimetype": "text/x-python",
   "name": "python",
   "nbconvert_exporter": "python",
   "pygments_lexer": "ipython3",
   "version": "3.10.13"
  },
  "orig_nbformat": 4
 },
 "nbformat": 4,
 "nbformat_minor": 2
}
