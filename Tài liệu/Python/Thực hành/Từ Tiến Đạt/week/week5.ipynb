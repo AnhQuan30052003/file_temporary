{
 "cells": [
  {
   "cell_type": "code",
   "execution_count": 1,
   "metadata": {},
   "outputs": [
    {
     "name": "stdout",
     "output_type": "stream",
     "text": [
      "x squared is 16\n"
     ]
    }
   ],
   "source": [
    "def main():\n",
    " x = int(input(\"What's x? \"))\n",
    " print(\"x squared is\", square(x))\n",
    "def square(n):\n",
    " return n * n\n",
    "if __name__ == \"__main__\":\n",
    " main()"
   ]
  },
  {
   "cell_type": "code",
   "execution_count": 2,
   "metadata": {},
   "outputs": [
    {
     "name": "stdout",
     "output_type": "stream",
     "text": [
      "hello, alo\n",
      "hello, hello\n",
      "hello, siu nhana\n"
     ]
    }
   ],
   "source": [
    "names = []\n",
    "for _ in range(3):\n",
    " names.append(input(\"What's your name?\" ))\n",
    "for name in sorted(names):\n",
    " print(f\"hello, {name}\")"
   ]
  },
  {
   "cell_type": "code",
   "execution_count": null,
   "metadata": {},
   "outputs": [],
   "source": []
  }
 ],
 "metadata": {
  "kernelspec": {
   "display_name": "py310cntt",
   "language": "python",
   "name": "python3"
  },
  "language_info": {
   "codemirror_mode": {
    "name": "ipython",
    "version": 3
   },
   "file_extension": ".py",
   "mimetype": "text/x-python",
   "name": "python",
   "nbconvert_exporter": "python",
   "pygments_lexer": "ipython3",
   "version": "3.10.13"
  },
  "orig_nbformat": 4
 },
 "nbformat": 4,
 "nbformat_minor": 2
}
