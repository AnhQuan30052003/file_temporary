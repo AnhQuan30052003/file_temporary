{
 "cells": [
  {
   "cell_type": "code",
   "execution_count": 4,
   "metadata": {},
   "outputs": [
    {
     "name": "stdout",
     "output_type": "stream",
     "text": [
      "x is 10\n"
     ]
    }
   ],
   "source": [
    "while True:\n",
    " try:\n",
    "  x = int(input(\"What's x?\"))\n",
    " except ValueError:\n",
    "  print(\"x is not an integer\")\n",
    " else:\n",
    "  break\n",
    "print(f\"x is {x}\")"
   ]
  },
  {
   "cell_type": "code",
   "execution_count": null,
   "metadata": {},
   "outputs": [],
   "source": [
    "x = int(input(\"What's x? \"))\n",
    "print(f\"x is {x}\")"
   ]
  },
  {
   "cell_type": "code",
   "execution_count": null,
   "metadata": {},
   "outputs": [],
   "source": [
    "try:\n",
    " x = int(input(\"What's x?\"))\n",
    "except ValueError:\n",
    " print(\"x is not an integer\")\n",
    "else:\n",
    " print(f\"x is {x}\")"
   ]
  },
  {
   "cell_type": "code",
   "execution_count": 2,
   "metadata": {},
   "outputs": [
    {
     "name": "stdout",
     "output_type": "stream",
     "text": [
      "x is 4\n"
     ]
    }
   ],
   "source": [
    "def main():\n",
    "  x = getIn('What\\'s x')\n",
    "  print(f\"x is {x}\")\n",
    "def getIn(prompt):\n",
    "  while True:\n",
    "    try:\n",
    "      return int(input(prompt))\n",
    "    except ValueError:\n",
    "      pass\n",
    "main()"
   ]
  },
  {
   "cell_type": "markdown",
   "metadata": {},
   "source": [
    "bai giang chuong 4"
   ]
  },
  {
   "cell_type": "code",
   "execution_count": null,
   "metadata": {},
   "outputs": [],
   "source": [
    "import random\n",
    "coin = random.choice([\"heads\", \"tails\"])\n",
    "print(coin)"
   ]
  },
  {
   "cell_type": "code",
   "execution_count": 13,
   "metadata": {},
   "outputs": [
    {
     "name": "stdout",
     "output_type": "stream",
     "text": [
      "Chao mung ban den voi Bua Keo Bao\n",
      "Emergy's Choice: bao\n",
      "Player's Choice: bua\n",
      "Emergy Win\n",
      "Emergy's Choice: keo\n",
      "Player's Choice: keo\n",
      "Draw\n",
      "Emergy's Choice: keo\n",
      "Player's Choice: n\n",
      "Emergy Win\n"
     ]
    }
   ],
   "source": [
    "# Bua keo bao\n",
    "import random\n",
    "def emergy():\n",
    "  emerChoice = random.choice([\"Bua\", \"Keo\", \"Bao\"]).lower()\n",
    "  return emerChoice\n",
    "def player():\n",
    "  playerChoice = input(\"Bua, Keo, Bao:\").lower()\n",
    "  return playerChoice\n",
    "def sol():\n",
    "  emer = emergy()\n",
    "  play = player()\n",
    "  print(\"Emergy's Choice:\",emer)\n",
    "  print(\"Player's Choice:\", play)\n",
    "  if play == emer:\n",
    "    print(\"Draw\")\n",
    "  elif (play == \"bua\" and emer ==\"keo\") or (play == \"keo\" and emer == \"bao\") or (play == \"bao\" and emer == \"bua\"):\n",
    "    print(\"Player Win\")\n",
    "  elif play not in 'buakeobao':\n",
    "    print(\"Invalid\")\n",
    "  else: print(\"Emergy Win\")\n",
    "def main():\n",
    "  print(\"Chao mung ban den voi Bua Keo Bao\")\n",
    "  while True:\n",
    "    sol()\n",
    "    match input(\"Ban co muon choi tiep khong(Y/N)\").lower():\n",
    "      case 'n':\n",
    "        break\n",
    "      case _:\n",
    "        continue\n",
    "main()\n",
    "\n",
    "\n"
   ]
  },
  {
   "cell_type": "code",
   "execution_count": null,
   "metadata": {},
   "outputs": [],
   "source": []
  }
 ],
 "metadata": {
  "kernelspec": {
   "display_name": "py310cntt",
   "language": "python",
   "name": "python3"
  },
  "language_info": {
   "codemirror_mode": {
    "name": "ipython",
    "version": 3
   },
   "file_extension": ".py",
   "mimetype": "text/x-python",
   "name": "python",
   "nbconvert_exporter": "python",
   "pygments_lexer": "ipython3",
   "version": "3.10.13"
  },
  "orig_nbformat": 4
 },
 "nbformat": 4,
 "nbformat_minor": 2
}
