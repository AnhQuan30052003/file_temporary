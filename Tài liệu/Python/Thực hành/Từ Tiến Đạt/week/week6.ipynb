{
 "cells": [
  {
   "cell_type": "code",
   "execution_count": 10,
   "metadata": {},
   "outputs": [
    {
     "name": "stdout",
     "output_type": "stream",
     "text": [
      "Valid\n"
     ]
    }
   ],
   "source": [
    "import re\n",
    "email = input(\"What's your email? \").strip()\n",
    "if re.search(\".+@.+\", email):\n",
    " print(\"Valid\")\n",
    "else:\n",
    " print(\"Invalid\")"
   ]
  },
  {
   "cell_type": "code",
   "execution_count": 12,
   "metadata": {},
   "outputs": [
    {
     "name": "stdout",
     "output_type": "stream",
     "text": [
      "Invalid\n"
     ]
    }
   ],
   "source": [
    "import re\n",
    "email = input(\"What's your email? \").strip()\n",
    "if re.search(\".+@.+.edu\", email):\n",
    " print(\"Valid\")\n",
    "else:\n",
    " print(\"Invalid\")"
   ]
  },
  {
   "cell_type": "markdown",
   "metadata": {},
   "source": [
    "Regular Expression\n",
    "\n",
    "`.` any character except a new line\n",
    "\n",
    "`*` 0 or more repetitions\n",
    "\n",
    "`+` 1 or more repetitions\n",
    "\n",
    "`?` 0 or 1 repetition\n",
    "\n",
    "`{m}` m repetitions\n",
    "\n",
    "`{m,n}` m-n repetitions\n"
   ]
  },
  {
   "cell_type": "code",
   "execution_count": null,
   "metadata": {},
   "outputs": [],
   "source": [
    "def main():\n",
    " student = get_student()\n",
    " if student[\"name\"] == \"Padma\":\n",
    "  student[\"house\"] = \"Ravenclaw\"\n",
    " print(f\"{student['name']} from {student['house']}\")\n",
    "def get_student():\n",
    " name = input(\"Name: \")\n",
    " house = input(\"House: \")\n",
    " return {\"name\": name, \"house\": house}\n",
    "if __name__ == \"__main__\":\n",
    " main()"
   ]
  }
 ],
 "metadata": {
  "kernelspec": {
   "display_name": "py310cntt",
   "language": "python",
   "name": "python3"
  },
  "language_info": {
   "codemirror_mode": {
    "name": "ipython",
    "version": 3
   },
   "file_extension": ".py",
   "mimetype": "text/x-python",
   "name": "python",
   "nbconvert_exporter": "python",
   "pygments_lexer": "ipython3",
   "version": "3.10.13"
  }
 },
 "nbformat": 4,
 "nbformat_minor": 2
}
